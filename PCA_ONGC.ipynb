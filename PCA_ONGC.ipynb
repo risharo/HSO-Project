{
 "cells": [
  {
   "cell_type": "code",
   "execution_count": 1,
   "metadata": {},
   "outputs": [],
   "source": [
    "import pandas as pd\n",
    "import numpy as np\n",
    "import matplotlib.pyplot as plt"
   ]
  },
  {
   "cell_type": "code",
   "execution_count": 2,
   "metadata": {},
   "outputs": [
    {
     "data": {
      "text/html": [
       "<div>\n",
       "<style scoped>\n",
       "    .dataframe tbody tr th:only-of-type {\n",
       "        vertical-align: middle;\n",
       "    }\n",
       "\n",
       "    .dataframe tbody tr th {\n",
       "        vertical-align: top;\n",
       "    }\n",
       "\n",
       "    .dataframe thead th {\n",
       "        text-align: right;\n",
       "    }\n",
       "</style>\n",
       "<table border=\"1\" class=\"dataframe\">\n",
       "  <thead>\n",
       "    <tr style=\"text-align: right;\">\n",
       "      <th></th>\n",
       "      <th>co_code</th>\n",
       "      <th>nse_opening_price</th>\n",
       "      <th>nse_high_price</th>\n",
       "      <th>nse_low_price</th>\n",
       "      <th>nse_traded_qty</th>\n",
       "      <th>nse_avg_rate</th>\n",
       "      <th>nse_delivery_qty</th>\n",
       "      <th>equity_facevalue_on_stkdate</th>\n",
       "    </tr>\n",
       "  </thead>\n",
       "  <tbody>\n",
       "    <tr>\n",
       "      <th>0</th>\n",
       "      <td>163226</td>\n",
       "      <td>79.00</td>\n",
       "      <td>80.95</td>\n",
       "      <td>78.3</td>\n",
       "      <td>35344809</td>\n",
       "      <td>79.87</td>\n",
       "      <td>11141105</td>\n",
       "      <td>5</td>\n",
       "    </tr>\n",
       "    <tr>\n",
       "      <th>1</th>\n",
       "      <td>163226</td>\n",
       "      <td>81.35</td>\n",
       "      <td>84.15</td>\n",
       "      <td>81.1</td>\n",
       "      <td>35154233</td>\n",
       "      <td>82.87</td>\n",
       "      <td>13211827</td>\n",
       "      <td>5</td>\n",
       "    </tr>\n",
       "    <tr>\n",
       "      <th>2</th>\n",
       "      <td>163226</td>\n",
       "      <td>82.45</td>\n",
       "      <td>83.35</td>\n",
       "      <td>81.6</td>\n",
       "      <td>16793161</td>\n",
       "      <td>82.43</td>\n",
       "      <td>7815221</td>\n",
       "      <td>5</td>\n",
       "    </tr>\n",
       "    <tr>\n",
       "      <th>3</th>\n",
       "      <td>163226</td>\n",
       "      <td>83.05</td>\n",
       "      <td>84.90</td>\n",
       "      <td>82.8</td>\n",
       "      <td>17511379</td>\n",
       "      <td>84.06</td>\n",
       "      <td>7592852</td>\n",
       "      <td>5</td>\n",
       "    </tr>\n",
       "    <tr>\n",
       "      <th>4</th>\n",
       "      <td>163226</td>\n",
       "      <td>83.75</td>\n",
       "      <td>83.80</td>\n",
       "      <td>81.8</td>\n",
       "      <td>20124675</td>\n",
       "      <td>82.22</td>\n",
       "      <td>9137416</td>\n",
       "      <td>5</td>\n",
       "    </tr>\n",
       "  </tbody>\n",
       "</table>\n",
       "</div>"
      ],
      "text/plain": [
       "   co_code  nse_opening_price  nse_high_price  nse_low_price  nse_traded_qty  \\\n",
       "0   163226              79.00           80.95           78.3        35344809   \n",
       "1   163226              81.35           84.15           81.1        35154233   \n",
       "2   163226              82.45           83.35           81.6        16793161   \n",
       "3   163226              83.05           84.90           82.8        17511379   \n",
       "4   163226              83.75           83.80           81.8        20124675   \n",
       "\n",
       "   nse_avg_rate  nse_delivery_qty  equity_facevalue_on_stkdate  \n",
       "0         79.87          11141105                            5  \n",
       "1         82.87          13211827                            5  \n",
       "2         82.43           7815221                            5  \n",
       "3         84.06           7592852                            5  \n",
       "4         82.22           9137416                            5  "
      ]
     },
     "execution_count": 2,
     "metadata": {},
     "output_type": "execute_result"
    }
   ],
   "source": [
    "data = pd.read_csv('ONGC.csv')\n",
    "df = pd.DataFrame(data)\n",
    "df.head()"
   ]
  },
  {
   "cell_type": "code",
   "execution_count": 3,
   "metadata": {},
   "outputs": [],
   "source": [
    "from sklearn.preprocessing import StandardScaler\n",
    "scalar = StandardScaler()\n",
    "scalar.fit(data)\n",
    "scaled_data = scalar.transform(data)"
   ]
  },
  {
   "cell_type": "code",
   "execution_count": 4,
   "metadata": {},
   "outputs": [
    {
     "name": "stdout",
     "output_type": "stream",
     "text": [
      "[[ 0.72142154  0.85903238]\n",
      " [ 1.41871836  0.92214329]\n",
      " [ 0.85611959 -0.51215991]\n",
      " [ 1.11366722 -0.62330508]\n",
      " [ 1.0692816  -0.24527489]\n",
      " [ 0.80952259 -0.31321215]\n",
      " [ 0.65595518 -0.2023216 ]\n",
      " [ 0.1665715  -0.24715935]\n",
      " [-0.25061382 -1.23605482]\n",
      " [-0.41135835 -1.06648399]\n",
      " [-0.45268916 -0.72236817]\n",
      " [-0.82706269 -0.81804255]\n",
      " [ 0.0630958   0.08935615]\n",
      " [ 0.21495326 -0.9501647 ]\n",
      " [ 0.71993916 -0.27657981]\n",
      " [ 0.76658453 -0.90305682]\n",
      " [ 0.72523847 -1.10742673]\n",
      " [ 0.29416394 -1.34240178]\n",
      " [ 0.15372767 -1.51634676]\n",
      " [ 0.10266481 -1.16993985]\n",
      " [-0.01888689 -1.21292878]\n",
      " [-0.17418026 -1.07833214]\n",
      " [-0.37215398 -0.89488896]\n",
      " [-0.41969085 -0.55013527]\n",
      " [-0.60777594 -0.69940703]\n",
      " [-0.68685629 -0.98709845]\n",
      " [ 0.01436044 -0.21029392]\n",
      " [-0.29171061 -1.08857622]\n",
      " [-0.21629366 -1.33905443]\n",
      " [-0.11255648 -0.95417466]\n",
      " [-0.33463074 -1.05578726]\n",
      " [-0.3329216  -1.29842658]\n",
      " [-0.31699869 -0.82443072]\n",
      " [-0.19410981 -0.68082681]\n",
      " [ 0.64206289  0.10957571]\n",
      " [ 0.16300647 -1.11709469]\n",
      " [ 0.80814631  0.58100873]\n",
      " [ 0.69204862 -0.84368599]\n",
      " [ 0.20553008 -1.44180789]\n",
      " [ 0.61706921 -0.45405867]\n",
      " [ 0.43326988 -0.97184432]\n",
      " [ 0.47325416 -0.6828869 ]\n",
      " [ 0.27725647 -0.98074058]\n",
      " [ 2.83911087  4.04798389]\n",
      " [ 0.93674785  0.66874727]\n",
      " [ 0.55163902 -0.33764141]\n",
      " [ 0.35486972 -0.34110001]\n",
      " [-0.27657275 -0.87977411]\n",
      " [-0.33642988 -0.4084162 ]\n",
      " [-0.54618388  0.10475985]\n",
      " [-0.94631774  0.84795841]\n",
      " [-1.09965179 -0.0498969 ]\n",
      " [-1.41176555 -0.64235291]\n",
      " [-1.26225027 -0.72035043]\n",
      " [-1.35572831 -0.82159103]\n",
      " [-1.31896996 -0.62399322]\n",
      " [-1.29584027 -0.508055  ]\n",
      " [-0.52846541  1.22031879]\n",
      " [-1.38254936 -0.34209296]\n",
      " [-1.86157892  0.09210571]\n",
      " [-2.04029576  0.45037814]\n",
      " [-1.78413295  2.62608666]\n",
      " [-2.31859521  0.42901299]\n",
      " [-1.49840409  0.30789265]\n",
      " [-1.51713475  0.4605336 ]\n",
      " [-2.05932273  0.19298189]\n",
      " [-2.37992844  0.09447132]\n",
      " [-2.2244285  -0.14249213]\n",
      " [-2.20658009 -0.47943714]\n",
      " [-0.98586226  1.78679934]\n",
      " [-1.70950122  0.69833946]\n",
      " [-1.74192565  0.84481793]\n",
      " [-2.12762688 -0.35594937]\n",
      " [-2.30124937 -0.44875015]\n",
      " [-1.90687146  1.44835307]\n",
      " [-2.43138986  0.54745517]\n",
      " [-2.46742937  0.67319188]\n",
      " [-1.89384845  0.88696655]\n",
      " [-2.06833897  0.54548423]\n",
      " [-2.20034788  0.62793839]\n",
      " [-1.7222063   1.70865862]\n",
      " [-2.13502709  0.05692034]\n",
      " [-2.21088101  0.04057097]\n",
      " [-2.34809013  0.4788943 ]\n",
      " [-2.54907761  0.37962217]\n",
      " [-2.3473179   1.82811922]\n",
      " [-2.5977432   1.35280097]\n",
      " [-3.02143593  0.18607357]\n",
      " [-2.85847178  0.01865917]\n",
      " [-2.7391093   0.24827688]\n",
      " [-2.41286202  0.56929366]\n",
      " [-2.50167725 -0.02137261]\n",
      " [-2.47965328 -0.35127312]\n",
      " [-1.21890469  2.06480158]\n",
      " [-1.2769485   0.67561191]\n",
      " [-1.49353739 -0.04055408]\n",
      " [-1.64507083 -0.03251101]\n",
      " [-1.64026413 -1.27504208]\n",
      " [-1.30681913  0.24694592]\n",
      " [-1.64381088 -0.21364498]\n",
      " [-1.00118832  0.80823065]\n",
      " [-1.55841141 -0.1592699 ]\n",
      " [-0.22084426  1.73800739]\n",
      " [-0.06569234  0.58840478]\n",
      " [ 2.16762496  4.67143358]\n",
      " [ 0.74881173  0.26315716]\n",
      " [ 1.45723443  2.60412901]\n",
      " [ 0.94695859  1.4789095 ]\n",
      " [ 1.89586229  1.80663566]\n",
      " [ 2.87601872  1.94579675]\n",
      " [ 2.95960773  0.48758816]\n",
      " [ 3.56505133  0.39493186]\n",
      " [ 3.13571945 -0.69556424]\n",
      " [ 2.88642918 -1.13630045]\n",
      " [ 2.65701154 -1.03954898]\n",
      " [ 6.68050527  4.74262488]\n",
      " [ 6.02351436  1.90283246]\n",
      " [ 4.87374954 -1.86623115]\n",
      " [ 5.27133647 -1.46258063]\n",
      " [ 5.68433484 -1.32972248]\n",
      " [ 5.02699787 -0.9349545 ]\n",
      " [ 4.47923651  0.90748261]\n",
      " [ 3.21273373  1.10631305]\n",
      " [ 2.50582315 -1.02498286]\n",
      " [ 3.65774216 -0.40671284]\n",
      " [ 3.11948133 -1.93945017]\n",
      " [ 2.96855454 -1.95811517]\n",
      " [ 2.89760388 -2.16517348]\n",
      " [ 3.94311166  0.30825671]]\n"
     ]
    },
    {
     "data": {
      "text/plain": [
       "(129, 2)"
      ]
     },
     "execution_count": 4,
     "metadata": {},
     "output_type": "execute_result"
    }
   ],
   "source": [
    "from sklearn.decomposition import PCA\n",
    "pca = PCA(n_components = 2)\n",
    "pca.fit(scaled_data)\n",
    "data_pca = pca.transform(scaled_data)\n",
    "print(data_pca)\n",
    "data_pca.shape"
   ]
  },
  {
   "cell_type": "code",
   "execution_count": 5,
   "metadata": {},
   "outputs": [
    {
     "data": {
      "text/plain": [
       "Text(0, 0.5, 'Second Principal Component')"
      ]
     },
     "execution_count": 5,
     "metadata": {},
     "output_type": "execute_result"
    },
    {
     "data": {
      "image/png": "[encoded data removed]",
      "text/plain": [
       "<Figure size 576x432 with 1 Axes>"
      ]
     },
     "metadata": {
      "needs_background": "light"
     },
     "output_type": "display_data"
    }
   ],
   "source": [
    "plt.figure(figsize =(8, 6))\n",
    "plt.scatter(data_pca[:, 0], data_pca[:, 1], cmap ='plasma')\n",
    "plt.xlabel('First Principal Component')\n",
    "plt.ylabel('Second Principal Component')"
   ]
  },
  {
   "cell_type": "code",
   "execution_count": 6,
   "metadata": {},
   "outputs": [
    {
     "data": {
      "text/plain": [
       "array([[-0.        ,  0.4555147 ,  0.46866455,  0.45718392,  0.29484231,\n",
       "         0.46432606,  0.24761277, -0.        ],\n",
       "       [ 0.        , -0.22679896, -0.13648013, -0.2241326 ,  0.61912269,\n",
       "        -0.17600514,  0.68220911,  0.        ]])"
      ]
     },
     "execution_count": 6,
     "metadata": {},
     "output_type": "execute_result"
    }
   ],
   "source": [
    "pca.components_"
   ]
  },
  {
   "cell_type": "code",
   "execution_count": null,
   "metadata": {},
   "outputs": [],
   "source": []
  },
  {
   "cell_type": "code",
   "execution_count": null,
   "metadata": {},
   "outputs": [],
   "source": []
  }
 ],
 "metadata": {
  "kernelspec": {
   "display_name": "Python 3",
   "language": "python",
   "name": "python3"
  },
  "language_info": {
   "codemirror_mode": {
    "name": "ipython",
    "version": 3
   },
   "file_extension": ".py",
   "mimetype": "text/x-python",
   "name": "python",
   "nbconvert_exporter": "python",
   "pygments_lexer": "ipython3",
   "version": "3.8.5"
  }
 },
 "nbformat": 4,
 "nbformat_minor": 4
}
