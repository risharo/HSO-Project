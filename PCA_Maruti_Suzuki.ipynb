{
 "cells": [
  {
   "cell_type": "code",
   "execution_count": 1,
   "metadata": {},
   "outputs": [],
   "source": [
    "import pandas as pd\n",
    "import numpy as np\n",
    "import matplotlib.pyplot as plt"
   ]
  },
  {
   "cell_type": "code",
   "execution_count": 2,
   "metadata": {},
   "outputs": [
    {
     "data": {
      "text/html": [
       "<div>\n",
       "<style scoped>\n",
       "    .dataframe tbody tr th:only-of-type {\n",
       "        vertical-align: middle;\n",
       "    }\n",
       "\n",
       "    .dataframe tbody tr th {\n",
       "        vertical-align: top;\n",
       "    }\n",
       "\n",
       "    .dataframe thead th {\n",
       "        text-align: right;\n",
       "    }\n",
       "</style>\n",
       "<table border=\"1\" class=\"dataframe\">\n",
       "  <thead>\n",
       "    <tr style=\"text-align: right;\">\n",
       "      <th></th>\n",
       "      <th>co_code</th>\n",
       "      <th>nse_opening_price</th>\n",
       "      <th>nse_high_price</th>\n",
       "      <th>nse_low_price</th>\n",
       "      <th>nse_traded_qty</th>\n",
       "      <th>nse_avg_rate</th>\n",
       "      <th>nse_delivery_qty</th>\n",
       "      <th>equity_facevalue_on_stkdate</th>\n",
       "    </tr>\n",
       "  </thead>\n",
       "  <tbody>\n",
       "    <tr>\n",
       "      <th>0</th>\n",
       "      <td>140829</td>\n",
       "      <td>5838.30</td>\n",
       "      <td>5885.0</td>\n",
       "      <td>5775.00</td>\n",
       "      <td>1284965</td>\n",
       "      <td>5815.43</td>\n",
       "      <td>183034</td>\n",
       "      <td>5</td>\n",
       "    </tr>\n",
       "    <tr>\n",
       "      <th>1</th>\n",
       "      <td>140829</td>\n",
       "      <td>5850.00</td>\n",
       "      <td>5960.0</td>\n",
       "      <td>5762.80</td>\n",
       "      <td>1470951</td>\n",
       "      <td>5866.62</td>\n",
       "      <td>287700</td>\n",
       "      <td>5</td>\n",
       "    </tr>\n",
       "    <tr>\n",
       "      <th>2</th>\n",
       "      <td>140829</td>\n",
       "      <td>5948.45</td>\n",
       "      <td>5988.6</td>\n",
       "      <td>5883.05</td>\n",
       "      <td>1059779</td>\n",
       "      <td>5935.57</td>\n",
       "      <td>85535</td>\n",
       "      <td>5</td>\n",
       "    </tr>\n",
       "    <tr>\n",
       "      <th>3</th>\n",
       "      <td>140829</td>\n",
       "      <td>5963.45</td>\n",
       "      <td>6147.7</td>\n",
       "      <td>5925.00</td>\n",
       "      <td>1385087</td>\n",
       "      <td>6045.46</td>\n",
       "      <td>183667</td>\n",
       "      <td>5</td>\n",
       "    </tr>\n",
       "    <tr>\n",
       "      <th>4</th>\n",
       "      <td>140829</td>\n",
       "      <td>6140.00</td>\n",
       "      <td>6250.0</td>\n",
       "      <td>6092.65</td>\n",
       "      <td>1799721</td>\n",
       "      <td>6187.36</td>\n",
       "      <td>476086</td>\n",
       "      <td>5</td>\n",
       "    </tr>\n",
       "  </tbody>\n",
       "</table>\n",
       "</div>"
      ],
      "text/plain": [
       "   co_code  nse_opening_price  nse_high_price  nse_low_price  nse_traded_qty  \\\n",
       "0   140829            5838.30          5885.0        5775.00         1284965   \n",
       "1   140829            5850.00          5960.0        5762.80         1470951   \n",
       "2   140829            5948.45          5988.6        5883.05         1059779   \n",
       "3   140829            5963.45          6147.7        5925.00         1385087   \n",
       "4   140829            6140.00          6250.0        6092.65         1799721   \n",
       "\n",
       "   nse_avg_rate  nse_delivery_qty  equity_facevalue_on_stkdate  \n",
       "0       5815.43            183034                            5  \n",
       "1       5866.62            287700                            5  \n",
       "2       5935.57             85535                            5  \n",
       "3       6045.46            183667                            5  \n",
       "4       6187.36            476086                            5  "
      ]
     },
     "execution_count": 2,
     "metadata": {},
     "output_type": "execute_result"
    }
   ],
   "source": [
    "data = pd.read_csv('Maruti.csv')\n",
    "df = pd.DataFrame(data)\n",
    "df.head()"
   ]
  },
  {
   "cell_type": "code",
   "execution_count": 3,
   "metadata": {},
   "outputs": [],
   "source": [
    "from sklearn.preprocessing import StandardScaler\n",
    "scalar = StandardScaler()\n",
    "scalar.fit(data)\n",
    "scaled_data = scalar.transform(data)"
   ]
  },
  {
   "cell_type": "code",
   "execution_count": 4,
   "metadata": {},
   "outputs": [
    {
     "name": "stdout",
     "output_type": "stream",
     "text": [
      "[[ 4.07192730e+00 -3.91888007e-01]\n",
      " [ 3.95025395e+00  2.97504106e-01]\n",
      " [ 3.63576871e+00 -1.09725437e+00]\n",
      " [ 3.33937305e+00 -2.21082805e-01]\n",
      " [ 2.75515875e+00  1.53037434e+00]\n",
      " [ 2.77927778e+00 -5.65876952e-02]\n",
      " [ 3.27381153e+00 -7.04427245e-01]\n",
      " [ 3.43550240e+00 -8.65592827e-01]\n",
      " [ 3.39344103e+00 -6.93469276e-01]\n",
      " [ 3.87633685e+00  1.41779030e+00]\n",
      " [ 4.09058237e+00 -1.60300407e-02]\n",
      " [ 4.02132613e+00 -8.04308981e-01]\n",
      " [ 3.73222298e+00 -1.34256740e+00]\n",
      " [ 3.80377941e+00 -1.06097639e+00]\n",
      " [ 3.39321759e+00  1.12514190e+00]\n",
      " [ 3.15709506e+00 -3.11719591e-01]\n",
      " [ 3.23729285e+00 -1.64849124e+00]\n",
      " [ 3.38302008e+00 -1.40452790e+00]\n",
      " [ 3.36398921e+00 -1.09484023e+00]\n",
      " [ 2.84699873e+00  9.11631969e-01]\n",
      " [ 2.58678442e+00  1.89133603e+00]\n",
      " [ 2.42206742e+00  2.21628034e+00]\n",
      " [ 2.29341771e+00  9.20076476e-01]\n",
      " [ 2.27884844e+00  1.23243000e+00]\n",
      " [ 2.36223229e+00 -3.82869448e-01]\n",
      " [ 1.62712163e+00  2.36899416e+00]\n",
      " [ 1.41335910e+00 -5.61853073e-01]\n",
      " [ 1.11332553e+00  4.84114224e-01]\n",
      " [ 8.59976587e-01  5.51354148e-01]\n",
      " [ 8.01717039e-01 -1.24945694e+00]\n",
      " [ 7.66732547e-01 -4.76286961e-01]\n",
      " [ 5.97095568e-01 -8.17375828e-01]\n",
      " [ 7.65327631e-01 -9.89952222e-01]\n",
      " [ 7.17860886e-01 -8.36595788e-01]\n",
      " [ 1.69913075e-01  1.35311094e-03]\n",
      " [-2.96058041e-01  1.86288472e-01]\n",
      " [-2.50486482e-01 -9.74682173e-01]\n",
      " [-5.80065794e-01 -7.52932255e-01]\n",
      " [-5.95932292e-01 -7.99911023e-01]\n",
      " [-9.81499737e-01 -5.88353428e-01]\n",
      " [-8.39399552e-01 -1.88153913e-01]\n",
      " [-7.09385137e-01  5.59369821e-01]\n",
      " [-9.07324360e-01 -7.70873880e-01]\n",
      " [-5.31888270e-01  1.47016680e+00]\n",
      " [-1.23921576e-01 -5.35148142e-01]\n",
      " [-2.00585943e-01 -1.17906726e+00]\n",
      " [-5.35773938e-01 -7.80612516e-01]\n",
      " [-8.61325670e-01  1.38724702e+00]\n",
      " [-1.31202720e+00 -1.61825382e-01]\n",
      " [-1.36909691e+00  1.34826225e-01]\n",
      " [-1.28455488e+00  7.72852057e-01]\n",
      " [-1.46861345e+00 -5.11009965e-01]\n",
      " [-1.50424024e+00  1.37112817e-01]\n",
      " [-1.20399855e+00 -4.80676965e-01]\n",
      " [-9.36305779e-01 -8.15729494e-01]\n",
      " [-8.96666556e-01 -7.62602749e-01]\n",
      " [-6.16989066e-01 -3.40166118e-01]\n",
      " [-7.76135939e-01  1.59854510e-01]\n",
      " [ 1.57925911e-01  4.16015607e-01]\n",
      " [ 1.36670324e+00  4.32634294e+00]\n",
      " [ 1.57832188e+00  4.35981872e-01]\n",
      " [ 1.85237075e+00  8.74779003e-01]\n",
      " [ 1.74122060e+00  3.59865761e-01]\n",
      " [ 9.03578568e-01  4.27879021e-02]\n",
      " [ 4.72742226e-01  4.75272442e-02]\n",
      " [ 5.42588119e-01 -1.10755121e+00]\n",
      " [ 1.02390613e-01  1.83348991e-01]\n",
      " [ 1.34481524e-01 -8.88890714e-01]\n",
      " [-7.01316002e-02 -1.32037335e+00]\n",
      " [-3.76509478e-01 -1.72895455e-01]\n",
      " [-8.50743719e-01 -9.51914034e-01]\n",
      " [-8.32497086e-01 -9.23753728e-01]\n",
      " [-8.97630280e-01 -9.65158227e-01]\n",
      " [-9.72368085e-01 -9.20843159e-01]\n",
      " [-5.65541237e-01 -1.14377757e+00]\n",
      " [-4.53725543e-01 -1.43550154e+00]\n",
      " [-2.18190371e-01 -1.42933680e+00]\n",
      " [-2.18057215e-01 -1.74484023e+00]\n",
      " [-3.48572109e-02 -1.16637547e+00]\n",
      " [-4.62631187e-02 -6.64424508e-01]\n",
      " [ 1.39723225e-01 -1.40906646e+00]\n",
      " [-3.05352715e-01  1.22201369e+00]\n",
      " [-7.28205682e-01  8.05616551e-01]\n",
      " [-9.93296413e-01  1.33963560e+00]\n",
      " [-1.35334529e+00  1.43086287e+00]\n",
      " [-8.57967779e-01  2.51352805e-01]\n",
      " [-5.34662935e-01  1.31253395e-01]\n",
      " [-3.82193083e-01 -5.84662942e-01]\n",
      " [-2.17525952e-01 -5.96157735e-01]\n",
      " [-3.94173446e-01 -7.54239390e-01]\n",
      " [-7.18955174e-01 -5.50631781e-01]\n",
      " [-6.33691106e-01  1.12466846e+00]\n",
      " [-2.81955705e-01  1.60492843e+00]\n",
      " [-1.08225814e-01  2.91465072e+00]\n",
      " [ 5.11615601e-02  1.85770311e+00]\n",
      " [-1.01452759e-02  1.63097086e+00]\n",
      " [ 5.57227421e-02 -1.15407997e-01]\n",
      " [-2.21517292e-03 -2.75996034e+00]\n",
      " [-2.42866614e-01  9.48386334e-01]\n",
      " [-5.40726491e-01  9.15969027e-01]\n",
      " [-6.50396514e-01  3.83719757e-01]\n",
      " [-3.90146360e-01 -6.75669097e-01]\n",
      " [-5.74950343e-01 -6.99363864e-01]\n",
      " [-9.57276347e-01  2.36354237e+00]\n",
      " [-1.18431293e+00 -4.60929176e-01]\n",
      " [-5.69184238e-01 -2.49802287e-01]\n",
      " [-7.25356558e-01  4.81078584e+00]\n",
      " [-8.64003309e-01  8.71505525e-02]\n",
      " [-1.14602297e+00  1.98266333e-01]\n",
      " [-2.13495724e+00  6.76520952e+00]\n",
      " [-3.44563966e+00  3.04561641e+00]\n",
      " [-3.57057388e+00 -1.03540439e-01]\n",
      " [-3.62070291e+00  1.12846775e+00]\n",
      " [-3.46004052e+00 -7.02989716e-01]\n",
      " [-3.49178518e+00 -4.87141776e-01]\n",
      " [-3.47946999e+00 -1.13865018e+00]\n",
      " [-3.44789942e+00 -2.61131120e-01]\n",
      " [-3.31514803e+00 -5.09522247e-01]\n",
      " [-3.74049119e+00 -6.09447131e-01]\n",
      " [-3.48026633e+00 -7.90221814e-01]\n",
      " [-3.06831072e+00  3.42058788e-01]\n",
      " [-2.40924814e+00 -5.16564648e-01]\n",
      " [-1.85259347e+00  3.08512735e-01]\n",
      " [-2.31147036e+00 -4.78554145e-01]\n",
      " [-2.41415405e+00 -1.60000053e+00]\n",
      " [-2.45797174e+00 -1.71748488e+00]\n",
      " [-2.46209523e+00 -1.55589273e+00]\n",
      " [-2.56217551e+00 -5.95343735e-01]\n",
      " [-3.00414852e+00 -6.26178381e-01]]\n"
     ]
    },
    {
     "data": {
      "text/plain": [
       "(129, 2)"
      ]
     },
     "execution_count": 4,
     "metadata": {},
     "output_type": "execute_result"
    }
   ],
   "source": [
    "from sklearn.decomposition import PCA\n",
    "pca = PCA(n_components = 2)\n",
    "pca.fit(scaled_data)\n",
    "data_pca = pca.transform(scaled_data)\n",
    "print(data_pca)\n",
    "data_pca.shape"
   ]
  },
  {
   "cell_type": "code",
   "execution_count": 5,
   "metadata": {},
   "outputs": [
    {
     "data": {
      "text/plain": [
       "Text(0, 0.5, 'Second Principal Component')"
      ]
     },
     "execution_count": 5,
     "metadata": {},
     "output_type": "execute_result"
    },
    {
     "data": {
      "image/png": "[encoded data removed]",
      "text/plain": [
       "<Figure size 576x432 with 1 Axes>"
      ]
     },
     "metadata": {
      "needs_background": "light"
     },
     "output_type": "display_data"
    }
   ],
   "source": [
    "plt.figure(figsize =(8, 6))\n",
    "plt.scatter(data_pca[:, 0], data_pca[:, 1], cmap ='plasma')\n",
    "plt.xlabel('First Principal Component')\n",
    "plt.ylabel('Second Principal Component')"
   ]
  },
  {
   "cell_type": "code",
   "execution_count": 6,
   "metadata": {},
   "outputs": [
    {
     "data": {
      "text/plain": [
       "array([[ 0.        , -0.49781462, -0.49829977, -0.4990951 ,  0.06318134,\n",
       "        -0.49898784, -0.04244146,  0.        ],\n",
       "       [ 0.        , -0.00495064,  0.04278941, -0.02294848,  0.70477618,\n",
       "         0.01421456,  0.70760611,  0.        ]])"
      ]
     },
     "execution_count": 6,
     "metadata": {},
     "output_type": "execute_result"
    }
   ],
   "source": [
    "pca.components_"
   ]
  },
  {
   "cell_type": "code",
   "execution_count": null,
   "metadata": {},
   "outputs": [],
   "source": []
  },
  {
   "cell_type": "code",
   "execution_count": null,
   "metadata": {},
   "outputs": [],
   "source": []
  }
 ],
 "metadata": {
  "kernelspec": {
   "display_name": "Python 3",
   "language": "python",
   "name": "python3"
  },
  "language_info": {
   "codemirror_mode": {
    "name": "ipython",
    "version": 3
   },
   "file_extension": ".py",
   "mimetype": "text/x-python",
   "name": "python",
   "nbconvert_exporter": "python",
   "pygments_lexer": "ipython3",
   "version": "3.8.5"
  }
 },
 "nbformat": 4,
 "nbformat_minor": 4
}
